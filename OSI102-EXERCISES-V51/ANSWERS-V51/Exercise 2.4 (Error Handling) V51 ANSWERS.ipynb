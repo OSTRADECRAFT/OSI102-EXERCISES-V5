{
 "cells": [
  {
   "cell_type": "markdown",
   "metadata": {},
   "source": [
    "<div style=\"background-color:black;\">\n",
    "<img src=\"https://static.wixstatic.com/media/e99c3b_bf7763d953434005b731c2137dcad343~mv2.png/v1/fill/w_444,h_80,al_c,q_85,usm_0.66_1.00_0.01/TRADECRAFT-logo65-White.webp\" width=\"300\">\n",
    "</div>"
   ]
  },
  {
   "cell_type": "markdown",
   "metadata": {},
   "source": [
    "## Error Handling"
   ]
  },
  {
   "cell_type": "markdown",
   "metadata": {
    "collapsed": true
   },
   "source": [
    "Error handling in Python is done through the use of exceptions that are caught in **try** blocks and handled in **except** blocks. \n",
    "\n",
    "The code below asks a user to input their year of birth (using the *input* function), stores the user's response in the variable *year*, then calculates their *age* and outputs that value to the screen. Run the cell and try it out."
   ]
  },
  {
   "cell_type": "code",
   "execution_count": null,
   "metadata": {},
   "outputs": [],
   "source": [
    "year = float(input(\"Please enter the year you were born: \"))\n",
    "age = 2020 - year\n",
    "print(\"You are {} years old.\".format(age))"
   ]
  },
  {
   "cell_type": "markdown",
   "metadata": {},
   "source": [
    "But what happens when you type in a string instead of a number?\n",
    "\n",
    "You get a \"ValueError\" (try it) \n",
    "\n",
    "    ValueError                                Traceback (most recent call last)\n",
    "    <ipython-input-8-1b94052f5714> in <module>\n",
    "    ----> 1 year = float(input(\"Please enter the year you were born: \"))\n",
    "          2 age = 2020 - year\n",
    "          3 print(\"You are {} years old.\".format(age))\n",
    "\n",
    "    ValueError: could not convert string to float: 'the eighties'\n",
    "\n",
    "This will cause the program to halt execution.\n",
    "\n",
    "* In the next cell, modify the code using **try** and **except** statements to handle this error by printing the statement \"That's not a number! Try again.\""
   ]
  },
  {
   "cell_type": "code",
   "execution_count": null,
   "metadata": {},
   "outputs": [],
   "source": [
    "try:\n",
    "    year = float(input(\"Please enter the year you were born: \"))\n",
    "    age = 2020 - year\n",
    "    print(\"You are {} years old.\".format(age))\n",
    "except:\n",
    "    print(\"That's not a number! Try again.\")"
   ]
  },
  {
   "cell_type": "markdown",
   "metadata": {},
   "source": [
    "<br>\n",
    "<br>\n",
    "\n",
    "\n",
    "\n",
    "\n",
    "\n",
    "-------------------------------\n",
    "#### NEXT QUESTION (do not scroll down until you complete the question above)\n",
    "\n",
    "<br>\n",
    "<br>\n",
    "<img src=\"http://straightfromthea.com/wp-content/uploads/2011/06/Red-Down-Arrow.jpg\" align=left width=100 height=700 alt=\"BONUS QUESTION\" title=\"BONUS QUESTION\" />"
   ]
  },
  {
   "cell_type": "markdown",
   "metadata": {},
   "source": [
    "<br>\n",
    "<br>\n",
    "\n",
    "## finally block \n",
    "\n",
    "The finally block is a place to put any code that must execute, whether the try-block raised an exception or not.\n",
    "\n",
    "* Task: Insert a **finally** block into your code to print a dashed horizontal line after any output (even an exception)."
   ]
  },
  {
   "cell_type": "code",
   "execution_count": null,
   "metadata": {},
   "outputs": [],
   "source": [
    "try:\n",
    "    year = float(input(\"Please enter the year you were born: \"))\n",
    "    age = 2020 - year\n",
    "    print(\"You are {} years old.\".format(age))\n",
    "except:\n",
    "    print(\"That's not a number! Try again.\")\n",
    "finally:\n",
    "    print(\"---------------\\n\")"
   ]
  },
  {
   "cell_type": "markdown",
   "metadata": {},
   "source": [
    "<br>\n",
    "<br>\n",
    "<br>\n",
    "\n",
    "\n",
    "\n",
    "\n",
    "-------------------------------\n",
    "#### NEXT QUESTION (do not scroll down until you complete the question above)\n",
    "\n",
    "<br>\n",
    "<br>\n",
    "<img src=\"http://straightfromthea.com/wp-content/uploads/2011/06/Red-Down-Arrow.jpg\" align=left width=100 height=700 alt=\"BONUS QUESTION\" title=\"BONUS QUESTION\" />"
   ]
  },
  {
   "cell_type": "markdown",
   "metadata": {},
   "source": [
    "<br>\n",
    "<br>\n",
    "<br>\n",
    "<img src=\"https://www.paulweiss.bz/wp-content/uploads/bonus.png\" align=left width=200 height=150 alt=\"SCROLL DOWN FOR BONUS QUESTION\" title=\"SCROLL DOWN FOR BONUS QUESTION\" />\n",
    "\n",
    "<div class=\"alert alert-block alert-info\">TASK: Modify the code below to make the user keep trying to insert the correct input until they get it right.</div>"
   ]
  },
  {
   "cell_type": "code",
   "execution_count": null,
   "metadata": {},
   "outputs": [],
   "source": [
    "age = 0\n",
    "\n",
    "while age == 0:\n",
    "    try:\n",
    "        year = float(input(\"Please enter the year you were born: \"))\n",
    "        age = 2020 - year\n",
    "        print(\"You are {} years old.\".format(age))\n",
    "    except:\n",
    "        print(\"That's not a number! Try again.\")\n",
    "    finally:\n",
    "        print(\"---------------\\n\")"
   ]
  }
 ],
 "metadata": {
  "kernelspec": {
   "display_name": "Python 3",
   "language": "python",
   "name": "python3"
  },
  "language_info": {
   "codemirror_mode": {
    "name": "ipython",
    "version": 3
   },
   "file_extension": ".py",
   "mimetype": "text/x-python",
   "name": "python",
   "nbconvert_exporter": "python",
   "pygments_lexer": "ipython3",
   "version": "3.7.2"
  }
 },
 "nbformat": 4,
 "nbformat_minor": 2
}
