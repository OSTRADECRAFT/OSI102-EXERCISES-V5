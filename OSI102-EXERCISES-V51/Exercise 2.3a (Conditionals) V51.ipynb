{
 "cells": [
  {
   "cell_type": "markdown",
   "metadata": {},
   "source": [
    "<div style=\"background-color:black;\">\n",
    "<img src=\"https://static.wixstatic.com/media/e99c3b_bf7763d953434005b731c2137dcad343~mv2.png/v1/fill/w_444,h_80,al_c,q_85,usm_0.66_1.00_0.01/TRADECRAFT-logo65-White.webp\" width=\"300\">\n",
    "</div>"
   ]
  },
  {
   "cell_type": "markdown",
   "metadata": {},
   "source": [
    "## Conditionals\n",
    "\n",
    "The *if/else* statement is one of the most basic forms of *control structures* in programming. A control structure directs the order of execution of the statements in a program (referred to as the program's control flow).\n",
    "\n",
    "The basic structure is (note the colons and indentation):\n",
    "\n",
    "    if <condition>:\n",
    "        <do something>\n",
    "    else:\n",
    "        <do something else>\n",
    "\n",
    "Note that the *else* segment is optional, as the *if* statement can still work without it if the intention is to simply carry out an action based on whether the condition is true.\n"
   ]
  },
  {
   "cell_type": "markdown",
   "metadata": {
    "collapsed": true
   },
   "source": [
    "--------\n",
    "\n",
    "* Code the following quote as if/else conditional statements:\n",
    "\n",
    "<img src=\"https://cdn.boldomatic.com/content/post/g158Yw/If-it-s-important-to-you-you-ll-find-a-way-If-not?size=800\" width=\"400\" align=\"left\">"
   ]
  },
  {
   "cell_type": "markdown",
   "metadata": {
    "collapsed": true
   },
   "source": [
    "Instructions:\n",
    "-  Set a condition using a variable named **important**  (for example, the variable could take a numerical or string value)\n",
    "-  If the condition is true then print \"Find a way.\", otherwise print \"Find an excuse.\"\n",
    "\n",
    "<div class=\"alert alert-block alert-danger\">Remember colons and indentation rules!</div>"
   ]
  },
  {
   "cell_type": "code",
   "execution_count": null,
   "metadata": {},
   "outputs": [],
   "source": [
    "important = ...  # Try to change the value of important to \"no\" or anything besides \"yes\" and run this code again.\n",
    "\n",
    "if ...\n",
    "\n",
    "else ..."
   ]
  },
  {
   "cell_type": "markdown",
   "metadata": {},
   "source": [
    "----------\n",
    "\n",
    "### The *elif* Statement\n",
    "\n",
    "The *elif* is short for \"else if\". It allows us to check for multiple conditions.\n",
    "\n",
    "If the condition for *if* is False, it checks the condition of the next *elif* block and so on.\n",
    "\n",
    "If all the *if/elif* conditions are False, the *else* statement is executed.\n",
    "\n",
    "The *if* block can have only one *else* block, but multiple *elif* blocks.\n",
    "\n",
    "-----\n",
    "\n",
    "* Task: Modify the above code to add an *elif* condition such as: if you are \"unsure\" then \"Walk away.\" \n"
   ]
  },
  {
   "cell_type": "code",
   "execution_count": null,
   "metadata": {},
   "outputs": [],
   "source": [
    "important = ... \n",
    "\n",
    "if ...\n",
    "\n",
    "elif ...\n",
    "\n",
    "else ...\n"
   ]
  },
  {
   "cell_type": "markdown",
   "metadata": {},
   "source": [
    "------\n",
    "<img src=\"https://casinopokerspiele.com/wp-content/uploads/2018/07/Online-Casino-Bonus.png\" align=left width=200 height=150 alt=\"SCROLL DOWN FOR BONUS QUESTION\" title=\"SCROLL DOWN FOR BONUS QUESTION\" />\n",
    "\n",
    "<p class=\"alert alert-block alert-info\">TASK: In the cell below, write a Python program to add 'ing' at the end of any given string (provided that the length of the string is at least 3 characters long). If the given string already ends with 'ing' then add 'ly' instead. If the string length of the given string is less than 3, leave it unchanged.</p>\n",
    "\n",
    "<p>Hint 1: we will need to use a certain function to measure the length of our string. If you can't remember it, Google it.</p>\n",
    "\n",
    "<p>Hint 2: in order to check the last three characters of the string, we will need to look at that part separately. Howe can we do that?</p>"
   ]
  },
  {
   "cell_type": "code",
   "execution_count": null,
   "metadata": {},
   "outputs": [],
   "source": [
    "text = \"seeming\"  # Change the value of text to any other word to test it.\n",
    "\n",
    "if len(text) >= 3:\n",
    "    \n",
    "    if text[-3:] == 'ing':\n",
    "        text = text + 'ly'\n",
    "        print(text)\n",
    "        \n",
    "    else:\n",
    "        text = text + 'ing'\n",
    "        print(text)\n"
   ]
  },
  {
   "cell_type": "code",
   "execution_count": null,
   "metadata": {},
   "outputs": [],
   "source": []
  }
 ],
 "metadata": {
  "kernelspec": {
   "display_name": "Python 3",
   "language": "python",
   "name": "python3"
  },
  "language_info": {
   "codemirror_mode": {
    "name": "ipython",
    "version": 3
   },
   "file_extension": ".py",
   "mimetype": "text/x-python",
   "name": "python",
   "nbconvert_exporter": "python",
   "pygments_lexer": "ipython3",
   "version": "3.7.2"
  }
 },
 "nbformat": 4,
 "nbformat_minor": 2
}
