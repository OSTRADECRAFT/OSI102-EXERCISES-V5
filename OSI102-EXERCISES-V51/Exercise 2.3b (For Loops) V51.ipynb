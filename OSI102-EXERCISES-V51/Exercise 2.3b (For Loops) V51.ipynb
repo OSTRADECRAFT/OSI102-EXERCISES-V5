{
 "cells": [
  {
   "cell_type": "markdown",
   "metadata": {},
   "source": [
    "<div style=\"background-color:black;\">\n",
    "<img src=\"https://static.wixstatic.com/media/e99c3b_bf7763d953434005b731c2137dcad343~mv2.png/v1/fill/w_444,h_80,al_c,q_85,usm_0.66_1.00_0.01/TRADECRAFT-logo65-White.webp\" width=\"300\">\n",
    "</div>"
   ]
  },
  {
   "cell_type": "markdown",
   "metadata": {},
   "source": [
    "## For Loops\n",
    "This is one of the most important concepts related to lists and dictionaries. For example, you can have a list with a million items in it, and in three lines of code you can write a sentence for each of those million items.\n",
    "\n",
    "We use a loop to access all the elements in any type of data structure. A loop is a block of code that repeats itself until it runs out of items to work with, or until a certain condition is met. In this case, our loop will run once for every item in our list. With a list that is three items long, our loop will run three times.\n",
    "\n",
    "For the following list of **users** run a simple *for* loop that prints out each user name.  Remember your indentation and colons!"
   ]
  },
  {
   "cell_type": "code",
   "execution_count": null,
   "metadata": {},
   "outputs": [],
   "source": [
    "users = ['joe123', 'joe_smith', 'smithjoe', 'jsmith', 'j.smith']\n",
    "\n",
    "for ----- in ------:       # Replace the dashes with the correct terms and commands.\n",
    "    -----------------"
   ]
  },
  {
   "cell_type": "markdown",
   "metadata": {
    "collapsed": true
   },
   "source": [
    "-------------------\n",
    "#### Pseudo code\n",
    "<p>Once we start getting into more complex coding, it becomes especially important to write <a href=\"https://www.geeksforgeeks.org/how-to-write-a-pseudo-code/\" target=\"_blank\">pseudo code</a> before starting the actual coding process as this will help you visualize the steps required before getting into the nitty-gritty of programming. For example, if you had a list of Gmail user names which you wanted to turn into active email addresses, your process would be:<p>    \n",
    "            \n",
    "    for every user name in this group of user names, append '@gmail.com' to each user name, and then print the result.\n",
    "\n",
    "<p>In the cell below, turn this pseudo code into Python code:</p>"
   ]
  },
  {
   "cell_type": "code",
   "execution_count": null,
   "metadata": {},
   "outputs": [],
   "source": [
    "for...  # Complete this code. Don't forget colons and indentation as needed.\n",
    "\n"
   ]
  },
  {
   "cell_type": "markdown",
   "metadata": {},
   "source": [
    "Now modify your code to add each user's email address (as you create it) to a new list called emails. \n",
    "Once the list is complete (i.e. once the code has iterated through all users), print the list contents."
   ]
  },
  {
   "cell_type": "code",
   "execution_count": null,
   "metadata": {},
   "outputs": [],
   "source": [
    "emials = []  # This command creates an empty list that is ready to receive new items. \n",
    "\n",
    "# Complete the code here.\n",
    "\n",
    "print(emails)"
   ]
  },
  {
   "cell_type": "markdown",
   "metadata": {},
   "source": [
    "-----------------\n",
    "## Generators"
   ]
  },
  {
   "cell_type": "markdown",
   "metadata": {},
   "source": [
    "The *range()* function allows us to generate a series of numbers within a given range. Depending on how many arguments we pass to the function, we can decide where that series of numbers will begin and end as well as how big the difference will be between one number and the next. *range()* takes mainly three arguments.\n",
    "\n",
    "* start: our starting point (optional -- if empty, then it is assumed to start from 0)\n",
    "* stop: our stopping point (mandatory)\n",
    "* step: integer value which determines the increment between each integer in the sequence (optional)\n",
    "\n",
    "For example:\n",
    "        \n",
    "        range(20,100,4)\n",
    "        \n",
    "Run the following code and examine the result. How can you modify this code to only print even numbers?"
   ]
  },
  {
   "cell_type": "code",
   "execution_count": null,
   "metadata": {},
   "outputs": [],
   "source": [
    "for i in range(20): \n",
    "    print(i, end =\" \")"
   ]
  },
  {
   "cell_type": "markdown",
   "metadata": {},
   "source": [
    "------------------\n",
    "Run the code below and examine the results, then write out the process in pseudo code:"
   ]
  },
  {
   "cell_type": "code",
   "execution_count": null,
   "metadata": {
    "scrolled": true
   },
   "outputs": [],
   "source": [
    "nums = [10, 20, 30, 40] \n",
    "\n",
    "for i in range(len(nums)): \n",
    "    print(nums[i])"
   ]
  },
  {
   "cell_type": "markdown",
   "metadata": {},
   "source": [
    "Rewrite the above code using a standard range() generator. "
   ]
  },
  {
   "cell_type": "code",
   "execution_count": null,
   "metadata": {},
   "outputs": [],
   "source": [
    "for i in range(0,--,--):  # Insert the correct Start, Stop, and Step values.\n",
    "        print(-)"
   ]
  },
  {
   "cell_type": "markdown",
   "metadata": {},
   "source": [
    "Rewrite the code above so it will not print 0"
   ]
  },
  {
   "cell_type": "code",
   "execution_count": null,
   "metadata": {},
   "outputs": [],
   "source": [
    "for i in range(-,--,--):  # Insert the correct Start, Stop, and Step values.\n",
    "    if - > -:\n",
    "        print(i)"
   ]
  },
  {
   "cell_type": "markdown",
   "metadata": {},
   "source": [
    "Find an easier way to achieve this without using an if condition."
   ]
  },
  {
   "cell_type": "code",
   "execution_count": null,
   "metadata": {
    "scrolled": true
   },
   "outputs": [],
   "source": []
  },
  {
   "cell_type": "markdown",
   "metadata": {
    "collapsed": true
   },
   "source": [
    "------------------\n",
    "Using the *range()* generator and a *for* loop, calculate the sum of all integers between 5 and 10, and print the result.\n",
    "\n",
    "Hint: initialize a 'sum' variable and set sum = 0 prior to running the loop calculation."
   ]
  },
  {
   "cell_type": "code",
   "execution_count": null,
   "metadata": {},
   "outputs": [],
   "source": [
    "sum = 0\n",
    "for # each element in string/list/range\n",
    "    # do something\n",
    "print(sum)  # The end result of the for loop is a new 'sum' value."
   ]
  }
 ],
 "metadata": {
  "kernelspec": {
   "display_name": "Python 3",
   "language": "python",
   "name": "python3"
  },
  "language_info": {
   "codemirror_mode": {
    "name": "ipython",
    "version": 3
   },
   "file_extension": ".py",
   "mimetype": "text/x-python",
   "name": "python",
   "nbconvert_exporter": "python",
   "pygments_lexer": "ipython3",
   "version": "3.7.2"
  }
 },
 "nbformat": 4,
 "nbformat_minor": 2
}
