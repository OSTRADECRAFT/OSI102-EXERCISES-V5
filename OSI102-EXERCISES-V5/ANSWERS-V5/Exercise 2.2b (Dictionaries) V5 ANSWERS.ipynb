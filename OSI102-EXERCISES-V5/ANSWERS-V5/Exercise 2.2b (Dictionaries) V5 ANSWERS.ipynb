{
 "cells": [
  {
   "cell_type": "markdown",
   "metadata": {},
   "source": [
    "<div style=\"background-color:black;\">\n",
    "<img src=\"https://static.wixstatic.com/media/e99c3b_bf7763d953434005b731c2137dcad343~mv2.png/v1/fill/w_444,h_80,al_c,q_85,usm_0.66_1.00_0.01/TRADECRAFT-logo65-White.webp\" width=\"300\">\n",
    "</div>"
   ]
  },
  {
   "cell_type": "markdown",
   "metadata": {},
   "source": [
    "## Dictionaries\n",
    "Dictionaries are a way to store information that is connected in some way. Dictionaries store information in key-value pairs, so that any one piece of information in a dictionary is connected to at least one other piece of information.\n",
    "\n",
    "Dictionaries do not store their information in any particular order, so you may not get your information back in the same order you entered it.\n",
    "\n",
    "The following code creates a dictionary called \"team\" and is populated by peoples names (keys) and which countries they are from (values).\n"
   ]
  },
  {
   "cell_type": "code",
   "execution_count": 1,
   "metadata": {},
   "outputs": [
    {
     "data": {
      "text/plain": [
       "{'Rama': 'India',\n",
       " 'Boris': 'Russia',\n",
       " 'Lin': 'China',\n",
       " 'Azar': 'Iran',\n",
       " 'Greg': 'UK'}"
      ]
     },
     "execution_count": 1,
     "metadata": {},
     "output_type": "execute_result"
    }
   ],
   "source": [
    "team = {}   # Initiates the dictionary\n",
    "\n",
    "team['Rama'] = 'India'\n",
    "team['Boris'] = 'Russia'\n",
    "team['Lin'] = 'China'\n",
    "team['Azar'] = 'Iran'\n",
    "team['Greg'] = 'UK'\n",
    "\n",
    "team"
   ]
  },
  {
   "cell_type": "markdown",
   "metadata": {},
   "source": [
    "Add a dictionary entry for yourself, and check to see if it has been added."
   ]
  },
  {
   "cell_type": "code",
   "execution_count": 2,
   "metadata": {},
   "outputs": [
    {
     "name": "stdout",
     "output_type": "stream",
     "text": [
      "{'Rama': 'India', 'Boris': 'Russia', 'Lin': 'China', 'Azar': 'Iran', 'Greg': 'UK', 'Carl': 'Germany'}\n"
     ]
    }
   ],
   "source": [
    "team['Carl'] = 'Germany'  # Replace the dahses with the appropriate key/value pair\n",
    "print(team)"
   ]
  },
  {
   "cell_type": "markdown",
   "metadata": {},
   "source": [
    "Access the dictionary and lookup Lin's country."
   ]
  },
  {
   "cell_type": "code",
   "execution_count": 3,
   "metadata": {},
   "outputs": [
    {
     "data": {
      "text/plain": [
       "'China'"
      ]
     },
     "execution_count": 3,
     "metadata": {},
     "output_type": "execute_result"
    }
   ],
   "source": [
    "team['Lin']"
   ]
  },
  {
   "cell_type": "markdown",
   "metadata": {
    "slideshow": {
     "slide_type": ""
    }
   },
   "source": [
    "Using the *.update()* method, change Greg's country to 'Australia'.\n",
    "Print out the dictionary and see the change."
   ]
  },
  {
   "cell_type": "code",
   "execution_count": 4,
   "metadata": {},
   "outputs": [
    {
     "name": "stdout",
     "output_type": "stream",
     "text": [
      "{'Rama': 'India', 'Boris': 'Russia', 'Lin': 'China', 'Azar': 'Iran', 'Greg': 'Australia', 'Carl': 'Germany'}\n"
     ]
    }
   ],
   "source": [
    "team.update({'Greg':'Australia'})  # Replace the dashes with the appropriate values\n",
    "print(team)"
   ]
  },
  {
   "cell_type": "markdown",
   "metadata": {},
   "source": [
    "Delete Boris from this dictionary using the **del** command"
   ]
  },
  {
   "cell_type": "code",
   "execution_count": 5,
   "metadata": {},
   "outputs": [
    {
     "name": "stdout",
     "output_type": "stream",
     "text": [
      "{'Rama': 'India', 'Lin': 'China', 'Azar': 'Iran', 'Greg': 'Australia', 'Carl': 'Germany'}\n"
     ]
    }
   ],
   "source": [
    "del team['Boris']  # Replace the dashes with the appropriate values\n",
    "\n",
    "print(team)"
   ]
  },
  {
   "cell_type": "markdown",
   "metadata": {},
   "source": [
    "What happens if you run the above del command again? Explain why in a comment below."
   ]
  },
  {
   "cell_type": "code",
   "execution_count": 6,
   "metadata": {},
   "outputs": [],
   "source": [
    "# We get a 'Key Error' because the dictionary tries to lookup Boris but cannot find such an entry (key)"
   ]
  },
  {
   "cell_type": "markdown",
   "metadata": {},
   "source": [
    "-------------------\n",
    "## Containers as dictionary values\n",
    "\n",
    "Below is a dictionary with information about aircraft. In each case the aircraft type is the key, and each key has multiple values stored in the list (similar to what you might find in a database if you ran a search based on a key word), for example: \n",
    "* manufacturer \n",
    "* number of engines\n",
    "* year of first flight\n",
    "* current operational status"
   ]
  },
  {
   "cell_type": "code",
   "execution_count": 7,
   "metadata": {},
   "outputs": [],
   "source": [
    "aircraft = {'B747':['Boeing',4, 1969, 'Operational'], \n",
    "            'Concorde':['Aerospatiale/BAC', 4, 1969,'Retired'],\n",
    "            'DC10':['Douglas', 3, 1970,'Cargo'],\n",
    "            'L1011':['Lockheed', 3, 1970,'Limited'],\n",
    "            'B787':['Boeing', 2, 2009,'Operational'],\n",
    "            'A380':['Airbus', 4, 2005,'Operational']}"
   ]
  },
  {
   "cell_type": "markdown",
   "metadata": {},
   "source": [
    "Look up 'A380' in the dictionary"
   ]
  },
  {
   "cell_type": "code",
   "execution_count": 8,
   "metadata": {},
   "outputs": [
    {
     "data": {
      "text/plain": [
       "['Airbus', 4, 2005, 'Operational']"
      ]
     },
     "execution_count": 8,
     "metadata": {},
     "output_type": "execute_result"
    }
   ],
   "source": [
    "aircraft['A380']"
   ]
  },
  {
   "cell_type": "markdown",
   "metadata": {},
   "source": [
    "Look up only the name of the manufacturer of the A380 (without showing the other values)"
   ]
  },
  {
   "cell_type": "code",
   "execution_count": 9,
   "metadata": {
    "scrolled": false
   },
   "outputs": [
    {
     "data": {
      "text/plain": [
       "'Airbus'"
      ]
     },
     "execution_count": 9,
     "metadata": {},
     "output_type": "execute_result"
    }
   ],
   "source": [
    "aircraft['A380'][0]  # Replace the dash with a value"
   ]
  },
  {
   "cell_type": "markdown",
   "metadata": {},
   "source": [
    "----------------\n",
    "<img src=\"https://www.paulweiss.bz/wp-content/uploads/bonus.png\" align=left width=200 height=150 style=\"margin:10px;\"/><br>\n",
    "<p align=\"left\">Run the code below and examine the output</p>"
   ]
  },
  {
   "cell_type": "code",
   "execution_count": 10,
   "metadata": {
    "scrolled": false
   },
   "outputs": [
    {
     "name": "stdout",
     "output_type": "stream",
     "text": [
      "B747 ['Boeing', 4, 1969, 'Operational']\n",
      "Concorde ['Aerospatiale/BAC', 4, 1969, 'Retired']\n",
      "DC10 ['Douglas', 3, 1970, 'Cargo']\n",
      "L1011 ['Lockheed', 3, 1970, 'Limited']\n",
      "B787 ['Boeing', 2, 2009, 'Operational']\n",
      "A380 ['Airbus', 4, 2005, 'Operational']\n"
     ]
    }
   ],
   "source": [
    "for key, value in aircraft.items():\n",
    "    print(key, value)"
   ]
  },
  {
   "cell_type": "markdown",
   "metadata": {},
   "source": [
    "-------------\n",
    "<p>How can we modify this code to only print the aircraft type (key) and the year of first flight (value)?</p>"
   ]
  },
  {
   "cell_type": "code",
   "execution_count": 11,
   "metadata": {},
   "outputs": [
    {
     "name": "stdout",
     "output_type": "stream",
     "text": [
      "B747 1969\n",
      "Concorde 1969\n",
      "DC10 1970\n",
      "L1011 1970\n",
      "B787 2009\n",
      "A380 2005\n"
     ]
    }
   ],
   "source": [
    "for key, value in aircraft.items():\n",
    "    print(key, value[2])  # The values in this dictionary are all lists. The third element of each list (index number 2) is the year of first flight."
   ]
  },
  {
   "cell_type": "markdown",
   "metadata": {
    "collapsed": true
   },
   "source": [
    "----------------\n",
    "<p>How can we further modify this code to print statements for each aircraft type as follows:\n",
    "\n",
    "    The B747 first flew in 1969.\n",
    "\n",
    "For *extra* fun, try printing using  the string **.format()** method.  \n",
    "<div class=\"alert alert-block alert-info\">Tip: You can use Google to help you find the answer.</div>"
   ]
  },
  {
   "cell_type": "code",
   "execution_count": 12,
   "metadata": {},
   "outputs": [
    {
     "name": "stdout",
     "output_type": "stream",
     "text": [
      "The B747 first flew in 1969\n",
      "The Concorde first flew in 1969\n",
      "The DC10 first flew in 1970\n",
      "The L1011 first flew in 1970\n",
      "The B787 first flew in 2009\n",
      "The A380 first flew in 2005\n"
     ]
    }
   ],
   "source": [
    "for key, value in aircraft.items():\n",
    "    print(\"The {} first flew in {}\".format(key, value[2]))"
   ]
  },
  {
   "cell_type": "code",
   "execution_count": 13,
   "metadata": {},
   "outputs": [],
   "source": [
    "# .format() can take multiple arguments which it then plugs into the preceding string in order of appearance."
   ]
  }
 ],
 "metadata": {
  "kernelspec": {
   "display_name": "Python 3",
   "language": "python",
   "name": "python3"
  },
  "language_info": {
   "codemirror_mode": {
    "name": "ipython",
    "version": 3
   },
   "file_extension": ".py",
   "mimetype": "text/x-python",
   "name": "python",
   "nbconvert_exporter": "python",
   "pygments_lexer": "ipython3",
   "version": "3.7.2"
  }
 },
 "nbformat": 4,
 "nbformat_minor": 2
}
