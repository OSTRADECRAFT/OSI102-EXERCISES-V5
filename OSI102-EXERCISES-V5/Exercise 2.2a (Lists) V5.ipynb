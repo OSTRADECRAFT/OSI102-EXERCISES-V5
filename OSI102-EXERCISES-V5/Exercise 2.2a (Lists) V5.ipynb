{
 "cells": [
  {
   "cell_type": "markdown",
   "metadata": {},
   "source": [
    "<div style=\"background-color:black;\">\n",
    "<img src=\"https://static.wixstatic.com/media/e99c3b_bf7763d953434005b731c2137dcad343~mv2.png/v1/fill/w_444,h_80,al_c,q_85,usm_0.66_1.00_0.01/TRADECRAFT-logo65-White.webp\" width=\"300\">\n",
    "</div>"
   ]
  },
  {
   "cell_type": "markdown",
   "metadata": {},
   "source": [
    "# Lists\n",
    "\n",
    "A list is a collection of related items, stored in a variable.  Since lists are a collection objects, it is good practice to give them a plural name.  For example, if each item in the list is a car, call the list 'cars'.  In Python, square brackets designate a list. \n",
    "\n",
    "Define a list called 'people', and populate the list with any three names."
   ]
  },
  {
   "cell_type": "code",
   "execution_count": null,
   "metadata": {
    "scrolled": true
   },
   "outputs": [],
   "source": [
    "people = [--,--,--]  # Replace the dashes with usernames."
   ]
  },
  {
   "cell_type": "markdown",
   "metadata": {},
   "source": [
    "Now, print each of these values out, using their index position in the list."
   ]
  },
  {
   "cell_type": "code",
   "execution_count": null,
   "metadata": {},
   "outputs": [],
   "source": [
    "people[-]  # Replace the dash with something."
   ]
  },
  {
   "cell_type": "code",
   "execution_count": null,
   "metadata": {},
   "outputs": [],
   "source": []
  },
  {
   "cell_type": "code",
   "execution_count": null,
   "metadata": {},
   "outputs": [],
   "source": []
  },
  {
   "cell_type": "markdown",
   "metadata": {},
   "source": [
    "Next, using string and list slicing, and other list methods... \n",
    "-  Store the first ten characters of the string *test_string* in a list named *alphabet* then print *alphabet*\n",
    "-  Print out the first three elements of *alphabet*\n",
    "-  Print out any three elements from the middle of your list, skipping one element each time\n",
    "-  Print out the elements from any point in the middle of your list, to the end\n",
    "-  Print out your entire list in reverse order"
   ]
  },
  {
   "cell_type": "code",
   "execution_count": null,
   "metadata": {},
   "outputs": [],
   "source": [
    "test_string = 'abcdefghijklmnopqrstuvwxyz'\n",
    "\n",
    "alphabet = list(-----------[:--])   #  Replace the dashes with the correct argument. \n",
    "print(alphabet)"
   ]
  },
  {
   "cell_type": "code",
   "execution_count": null,
   "metadata": {},
   "outputs": [],
   "source": [
    "print(alphabet[:-])"
   ]
  },
  {
   "cell_type": "code",
   "execution_count": null,
   "metadata": {},
   "outputs": [],
   "source": []
  },
  {
   "cell_type": "code",
   "execution_count": null,
   "metadata": {},
   "outputs": [],
   "source": []
  },
  {
   "cell_type": "code",
   "execution_count": null,
   "metadata": {},
   "outputs": [],
   "source": []
  },
  {
   "cell_type": "markdown",
   "metadata": {},
   "source": [
    "Lists are mutable, meaning that individual items within the list can change.  Append the *alphabet* list with the next three letters. Then print *alphabet* to verify the letters have been appended."
   ]
  },
  {
   "cell_type": "code",
   "execution_count": null,
   "metadata": {},
   "outputs": [],
   "source": [
    "alphabet.append(-)  # What goes in the parentheses?"
   ]
  },
  {
   "cell_type": "code",
   "execution_count": null,
   "metadata": {},
   "outputs": [],
   "source": []
  },
  {
   "cell_type": "code",
   "execution_count": null,
   "metadata": {},
   "outputs": [],
   "source": []
  },
  {
   "cell_type": "code",
   "execution_count": null,
   "metadata": {},
   "outputs": [],
   "source": []
  },
  {
   "cell_type": "markdown",
   "metadata": {},
   "source": [
    "<p>Is there a way to append the next three letters to the list at once? (i.e. without the need to repeat .append() several times)</p>\n",
    "<p>(Hint: Create and use a new object.)</p>"
   ]
  },
  {
   "cell_type": "code",
   "execution_count": null,
   "metadata": {},
   "outputs": [],
   "source": [
    "alphabet_2 =   # What value should you asign to this variable? And how can you use it to achive your goal?"
   ]
  }
 ],
 "metadata": {
  "kernelspec": {
   "display_name": "Python 3",
   "language": "python",
   "name": "python3"
  },
  "language_info": {
   "codemirror_mode": {
    "name": "ipython",
    "version": 3
   },
   "file_extension": ".py",
   "mimetype": "text/x-python",
   "name": "python",
   "nbconvert_exporter": "python",
   "pygments_lexer": "ipython3",
   "version": "3.7.2"
  }
 },
 "nbformat": 4,
 "nbformat_minor": 2
}
